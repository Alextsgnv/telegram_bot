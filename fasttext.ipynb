{
 "cells": [
  {
   "cell_type": "markdown",
   "id": "244dcbdc-1024-4158-9075-e2b97d4f0503",
   "metadata": {},
   "source": [
    "## FastText"
   ]
  },
  {
   "cell_type": "code",
   "execution_count": 3,
   "id": "58b6eafd-ec4e-4629-8631-465c3d288afe",
   "metadata": {},
   "outputs": [],
   "source": [
    "import os\n",
    "import numpy as np\n",
    "import pandas as pd\n",
    "import fasttext"
   ]
  },
  {
   "cell_type": "code",
   "execution_count": 4,
   "id": "268a74a1-a665-48cb-8f03-4c36b67a617e",
   "metadata": {},
   "outputs": [],
   "source": [
    "paths = {\n",
    "    'MODELS':'models',\n",
    "    'LR':os.path.join('models','LogisticRegression'),\n",
    "    'FASTTEXT':os.path.join('models','fasttext'),\n",
    "    'DATA':'data',\n",
    "    'TRAIN':os.path.join('data','train'),\n",
    "    'TEST':os.path.join('data','test')\n",
    "}"
   ]
  },
  {
   "cell_type": "markdown",
   "id": "fcf10ec6-6f49-4ea8-b70e-89c02251978d",
   "metadata": {},
   "source": [
    "### Загрузка предобработанных данных"
   ]
  },
  {
   "cell_type": "code",
   "execution_count": 5,
   "id": "07c6f2ea-6a2f-4705-a425-67946d1d71a6",
   "metadata": {},
   "outputs": [],
   "source": [
    "df_gensim = pd.read_csv(os.path.join(paths['DATA'],'gensim.csv'), index_col=0)"
   ]
  },
  {
   "cell_type": "code",
   "execution_count": 6,
   "id": "6f31b8c8-2077-4d15-90b6-dd464c4aae5b",
   "metadata": {},
   "outputs": [],
   "source": [
    "df_cleaner = pd.read_csv(os.path.join(paths['DATA'],'cleaner.csv'), index_col=0)"
   ]
  },
  {
   "cell_type": "code",
   "execution_count": 7,
   "id": "d6e17f15-37fa-495a-914e-7cbdbeee4a20",
   "metadata": {},
   "outputs": [
    {
     "data": {
      "text/html": [
       "<div>\n",
       "<style scoped>\n",
       "    .dataframe tbody tr th:only-of-type {\n",
       "        vertical-align: middle;\n",
       "    }\n",
       "\n",
       "    .dataframe tbody tr th {\n",
       "        vertical-align: top;\n",
       "    }\n",
       "\n",
       "    .dataframe thead th {\n",
       "        text-align: right;\n",
       "    }\n",
       "</style>\n",
       "<table border=\"1\" class=\"dataframe\">\n",
       "  <thead>\n",
       "    <tr style=\"text-align: right;\">\n",
       "      <th></th>\n",
       "      <th>text</th>\n",
       "      <th>topic</th>\n",
       "    </tr>\n",
       "  </thead>\n",
       "  <tbody>\n",
       "    <tr>\n",
       "      <th>0</th>\n",
       "      <td>как стало известно агентству ассошиэйтед пресс...</td>\n",
       "      <td>Россия</td>\n",
       "    </tr>\n",
       "    <tr>\n",
       "      <th>1</th>\n",
       "      <td>зале игровых автоматов третьем ярусе подземног...</td>\n",
       "      <td>Россия</td>\n",
       "    </tr>\n",
       "    <tr>\n",
       "      <th>2</th>\n",
       "      <td>япония приняла решение разморозить кредиты рос...</td>\n",
       "      <td>Россия</td>\n",
       "    </tr>\n",
       "    <tr>\n",
       "      <th>3</th>\n",
       "      <td>британцы отмечают сегодня скорбную дату вторую...</td>\n",
       "      <td>Мир</td>\n",
       "    </tr>\n",
       "    <tr>\n",
       "      <th>4</th>\n",
       "      <td>понедельник директор департамента внешних связ...</td>\n",
       "      <td>Россия</td>\n",
       "    </tr>\n",
       "  </tbody>\n",
       "</table>\n",
       "</div>"
      ],
      "text/plain": [
       "                                                text   topic\n",
       "0  как стало известно агентству ассошиэйтед пресс...  Россия\n",
       "1  зале игровых автоматов третьем ярусе подземног...  Россия\n",
       "2  япония приняла решение разморозить кредиты рос...  Россия\n",
       "3  британцы отмечают сегодня скорбную дату вторую...     Мир\n",
       "4  понедельник директор департамента внешних связ...  Россия"
      ]
     },
     "execution_count": 7,
     "metadata": {},
     "output_type": "execute_result"
    }
   ],
   "source": [
    "df_gensim.head(5)"
   ]
  },
  {
   "cell_type": "code",
   "execution_count": 8,
   "id": "6785d078-2d87-44bc-9d3d-cf61d6ca23b5",
   "metadata": {},
   "outputs": [
    {
     "data": {
      "text/html": [
       "<div>\n",
       "<style scoped>\n",
       "    .dataframe tbody tr th:only-of-type {\n",
       "        vertical-align: middle;\n",
       "    }\n",
       "\n",
       "    .dataframe tbody tr th {\n",
       "        vertical-align: top;\n",
       "    }\n",
       "\n",
       "    .dataframe thead th {\n",
       "        text-align: right;\n",
       "    }\n",
       "</style>\n",
       "<table border=\"1\" class=\"dataframe\">\n",
       "  <thead>\n",
       "    <tr style=\"text-align: right;\">\n",
       "      <th></th>\n",
       "      <th>text</th>\n",
       "      <th>topic</th>\n",
       "    </tr>\n",
       "  </thead>\n",
       "  <tbody>\n",
       "    <tr>\n",
       "      <th>0</th>\n",
       "      <td>как стало известно агентству ассошиэйтед пресс...</td>\n",
       "      <td>Россия</td>\n",
       "    </tr>\n",
       "    <tr>\n",
       "      <th>1</th>\n",
       "      <td>зале игровых автоматов третьем ярусе подземног...</td>\n",
       "      <td>Россия</td>\n",
       "    </tr>\n",
       "    <tr>\n",
       "      <th>2</th>\n",
       "      <td>япония приняла решение разморозить кредиты рос...</td>\n",
       "      <td>Россия</td>\n",
       "    </tr>\n",
       "    <tr>\n",
       "      <th>3</th>\n",
       "      <td>британцы отмечают сегодня скорбную дату вторую...</td>\n",
       "      <td>Мир</td>\n",
       "    </tr>\n",
       "    <tr>\n",
       "      <th>4</th>\n",
       "      <td>понедельник директор департамента внешних связ...</td>\n",
       "      <td>Россия</td>\n",
       "    </tr>\n",
       "  </tbody>\n",
       "</table>\n",
       "</div>"
      ],
      "text/plain": [
       "                                                text   topic\n",
       "0  как стало известно агентству ассошиэйтед пресс...  Россия\n",
       "1  зале игровых автоматов третьем ярусе подземног...  Россия\n",
       "2  япония приняла решение разморозить кредиты рос...  Россия\n",
       "3  британцы отмечают сегодня скорбную дату вторую...     Мир\n",
       "4  понедельник директор департамента внешних связ...  Россия"
      ]
     },
     "execution_count": 8,
     "metadata": {},
     "output_type": "execute_result"
    }
   ],
   "source": [
    "df_cleaner.head(5)"
   ]
  },
  {
   "cell_type": "code",
   "execution_count": 9,
   "id": "3c5c6c25-24a0-42a0-af36-76d88fd8cf4f",
   "metadata": {},
   "outputs": [],
   "source": [
    "df_gensim['fasttext'] = df_gensim.apply(lambda x: f'__label__{x[1]} {x[0]}',axis=1)"
   ]
  },
  {
   "cell_type": "code",
   "execution_count": 10,
   "id": "a114815e-8421-46cc-8150-fe9b43641562",
   "metadata": {},
   "outputs": [],
   "source": [
    "df_cleaner['fasttext'] = df_cleaner.apply(lambda x: f'__label__{x[1]} {x[0]}',axis=1)"
   ]
  },
  {
   "cell_type": "markdown",
   "id": "837fefd4-4c8d-4b0d-ad8f-ab57293505ec",
   "metadata": {},
   "source": [
    "### Формирование тестовой и обучающей выборки с учетом несбалансированности классов"
   ]
  },
  {
   "cell_type": "code",
   "execution_count": 11,
   "id": "ae181bc0-8ac9-4753-a995-6b63fcea0321",
   "metadata": {},
   "outputs": [],
   "source": [
    "from sklearn.model_selection import train_test_split\n",
    "from sklearn.metrics import classification_report"
   ]
  },
  {
   "cell_type": "code",
   "execution_count": 12,
   "id": "533ff79c-d51e-4994-b72e-90cd5e88015c",
   "metadata": {},
   "outputs": [],
   "source": [
    "X_train_gensim, X_test_gensim, y_train_gensim, y_test_gensim = train_test_split(df_gensim.fasttext, \n",
    "                                                                                df_gensim.topic,  \n",
    "                                                                                test_size=0.2, \n",
    "                                                                                stratify=df_gensim.topic,\n",
    "                                                                                random_state=11)"
   ]
  },
  {
   "cell_type": "code",
   "execution_count": 13,
   "id": "3e26104b-565b-490f-9cc8-236a98fbb97e",
   "metadata": {},
   "outputs": [],
   "source": [
    "pd.DataFrame(X_train_gensim).to_csv(os.path.join(paths['TRAIN'],'gensim_train.txt'), index=False)\n",
    "pd.DataFrame(X_test_gensim).to_csv(os.path.join(paths['TEST'],'gensim_test.txt'), index=False)"
   ]
  },
  {
   "cell_type": "code",
   "execution_count": 14,
   "id": "c91b1186-2f55-4731-95f7-4113cf806a96",
   "metadata": {},
   "outputs": [],
   "source": [
    "X_train_clean, X_test_clean, y_train_clean, y_test_clean = train_test_split(df_cleaner.fasttext,\n",
    "                                                                            df_cleaner.topic,\n",
    "                                                                            test_size=0.2, \n",
    "                                                                            stratify=df_cleaner.topic, \n",
    "                                                                            random_state=11)"
   ]
  },
  {
   "cell_type": "code",
   "execution_count": 15,
   "id": "9eabce33-78cd-4755-b40a-78d5d7a6d1d3",
   "metadata": {},
   "outputs": [],
   "source": [
    "pd.DataFrame(X_train_clean).to_csv(os.path.join(paths['TRAIN'],'clean_train.txt'), index=False)\n",
    "pd.DataFrame(X_test_clean).to_csv(os.path.join(paths['TEST'],'clean_test.txt'), index=False)"
   ]
  },
  {
   "cell_type": "markdown",
   "id": "4558f7df-ef1e-4c9a-a5bf-c4d50537d129",
   "metadata": {},
   "source": [
    "### Построение моделей"
   ]
  },
  {
   "cell_type": "markdown",
   "id": "038c2691-426d-46d7-b663-4f60a37b921d",
   "metadata": {},
   "source": [
    "Модель для данных обработанных gensim"
   ]
  },
  {
   "cell_type": "code",
   "execution_count": 16,
   "id": "ac58231b-1ecd-4651-8111-51c9c7a465ea",
   "metadata": {},
   "outputs": [
    {
     "data": {
      "text/plain": [
       "(148220, 0.8460059371204965, 0.8460059371204965)"
      ]
     },
     "execution_count": 16,
     "metadata": {},
     "output_type": "execute_result"
    }
   ],
   "source": [
    "model_gensim = fasttext.train_supervised(os.path.join(paths['TRAIN'],'gensim_train.txt'))\n",
    "model_gensim.test(os.path.join(paths['TEST'],'gensim_test.txt'))"
   ]
  },
  {
   "cell_type": "code",
   "execution_count": 17,
   "id": "9a792c0e-26e4-43ac-a13e-9a4099bea783",
   "metadata": {},
   "outputs": [
    {
     "name": "stdout",
     "output_type": "stream",
     "text": [
      "                   precision    recall  f1-score   support\n",
      "\n",
      "           Бизнес       0.68      0.43      0.53      1480\n",
      "      Бывший_СССР       0.83      0.83      0.83      7094\n",
      "              Дом       0.87      0.85      0.86      4347\n",
      "         Из_жизни       0.70      0.67      0.69      5521\n",
      "   Интернет_и_СМИ       0.80      0.76      0.78      8933\n",
      "         Культура       0.90      0.90      0.90     10759\n",
      "              Мир       0.83      0.86      0.84     27324\n",
      "  Наука_и_техника       0.86      0.87      0.87     10627\n",
      "      Путешествия       0.80      0.72      0.76      1281\n",
      "           Россия       0.83      0.84      0.84     32088\n",
      "Силовые_структуры       0.72      0.63      0.67      3919\n",
      "            Спорт       0.97      0.97      0.97     12883\n",
      "          Украина       0.87      0.87      0.87      4505\n",
      "         Ценности       0.91      0.87      0.89      1553\n",
      "        Экономика       0.86      0.88      0.87     15906\n",
      "\n",
      "         accuracy                           0.85    148220\n",
      "        macro avg       0.83      0.80      0.81    148220\n",
      "     weighted avg       0.84      0.85      0.84    148220\n",
      "\n"
     ]
    }
   ],
   "source": [
    "import re\n",
    "predicts_gensim = []\n",
    "for text in X_test_gensim:\n",
    "    # model_gensim.predict(text.replace('__label__'))\n",
    "    pridict = model_gensim.predict(re.sub('__label__[а-яА-Я_]*\\s','',text))\n",
    "    pridict = pridict[0][0].replace('__label__','')\n",
    "    predicts_gensim.append(pridict)\n",
    "print(classification_report(y_test_gensim, predicts_gensim))"
   ]
  },
  {
   "cell_type": "code",
   "execution_count": 18,
   "id": "1eb78e7b-f932-4c0d-84a1-fe591af988d6",
   "metadata": {},
   "outputs": [],
   "source": [
    "model_gensim.save_model(os.path.join(paths['FASTTEXT'],'gensim.bin'))"
   ]
  },
  {
   "cell_type": "markdown",
   "id": "3f6487d8-e351-4a96-9b6b-74bc165c81cc",
   "metadata": {},
   "source": [
    "Модель для данных обработанных классом CleanText"
   ]
  },
  {
   "cell_type": "code",
   "execution_count": 19,
   "id": "f11d40dd-2083-4d79-b651-3d22bd2551ac",
   "metadata": {},
   "outputs": [
    {
     "data": {
      "text/plain": [
       "(148220, 0.8462690595061395, 0.8462690595061395)"
      ]
     },
     "execution_count": 19,
     "metadata": {},
     "output_type": "execute_result"
    }
   ],
   "source": [
    "model_clean = fasttext.train_supervised(os.path.join(paths['TRAIN'],'clean_train.txt'))\n",
    "model_clean.test(os.path.join(paths['TEST'],'clean_test.txt'))"
   ]
  },
  {
   "cell_type": "code",
   "execution_count": 24,
   "id": "d358ce52-6734-4638-b924-c50d58d70b24",
   "metadata": {},
   "outputs": [
    {
     "name": "stdout",
     "output_type": "stream",
     "text": [
      "                   precision    recall  f1-score   support\n",
      "\n",
      "           Бизнес       0.69      0.43      0.53      1480\n",
      "      Бывший_СССР       0.83      0.82      0.83      7094\n",
      "              Дом       0.88      0.86      0.87      4347\n",
      "         Из_жизни       0.71      0.67      0.69      5521\n",
      "   Интернет_и_СМИ       0.81      0.76      0.79      8933\n",
      "         Культура       0.90      0.91      0.90     10759\n",
      "              Мир       0.83      0.86      0.84     27324\n",
      "  Наука_и_техника       0.86      0.87      0.87     10627\n",
      "      Путешествия       0.81      0.71      0.76      1281\n",
      "           Россия       0.83      0.85      0.84     32088\n",
      "Силовые_структуры       0.72      0.63      0.67      3919\n",
      "            Спорт       0.97      0.97      0.97     12883\n",
      "          Украина       0.87      0.87      0.87      4505\n",
      "         Ценности       0.91      0.86      0.89      1553\n",
      "        Экономика       0.86      0.88      0.87     15906\n",
      "\n",
      "         accuracy                           0.85    148220\n",
      "        macro avg       0.83      0.80      0.81    148220\n",
      "     weighted avg       0.84      0.85      0.85    148220\n",
      "\n"
     ]
    }
   ],
   "source": [
    "predicts_clean = []\n",
    "for text in X_test_clean:\n",
    "    # model_gensim.predict(text.replace('__label__'))\n",
    "    pridict = model_clean.predict(re.sub('__label__[а-яА-Я_]*\\s','',text))\n",
    "    pridict = pridict[0][0].replace('__label__','')\n",
    "    predicts_clean.append(pridict)\n",
    "print(classification_report(y_test_clean, predicts_clean))"
   ]
  },
  {
   "cell_type": "code",
   "execution_count": 21,
   "id": "c1d61709-979a-4307-bb86-b11462dcb0a2",
   "metadata": {},
   "outputs": [],
   "source": [
    "model_clean.save_model(os.path.join(paths['FASTTEXT'],'cleaner.bin'))"
   ]
  },
  {
   "cell_type": "markdown",
   "id": "f477d2c3-43b3-4068-b406-c45988d6dd9b",
   "metadata": {},
   "source": [
    "В целом результаты получились идентичные, однако предобработка написанным классом была быстрее."
   ]
  },
  {
   "cell_type": "code",
   "execution_count": 22,
   "id": "079f69e1-edd4-47be-8f18-5050b11c5dc3",
   "metadata": {},
   "outputs": [
    {
     "name": "stderr",
     "output_type": "stream",
     "text": [
      "Warning : `load_model` does not return WordVectorModel or SupervisedModel any more, but a `FastText` object which is very similar.\n"
     ]
    }
   ],
   "source": [
    "model_clean1 = fasttext.load_model(os.path.join(paths['FASTTEXT'],'cleaner.bin'))"
   ]
  }
 ],
 "metadata": {
  "kernelspec": {
   "display_name": "venv-text",
   "language": "python",
   "name": "venv-text"
  },
  "language_info": {
   "codemirror_mode": {
    "name": "ipython",
    "version": 3
   },
   "file_extension": ".py",
   "mimetype": "text/x-python",
   "name": "python",
   "nbconvert_exporter": "python",
   "pygments_lexer": "ipython3",
   "version": "3.10.4"
  }
 },
 "nbformat": 4,
 "nbformat_minor": 5
}
