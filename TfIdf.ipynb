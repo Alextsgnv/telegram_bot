{
 "cells": [
  {
   "cell_type": "markdown",
   "id": "2f9a6417-5c1f-4601-9b02-19cf8a5d5961",
   "metadata": {},
   "source": [
    "## Класические модели с TfIdf"
   ]
  },
  {
   "cell_type": "code",
   "execution_count": 3,
   "id": "982b182e-622f-4107-983b-f1d054dc0298",
   "metadata": {},
   "outputs": [],
   "source": [
    "import os\n",
    "import pandas as pd\n",
    "import numpy as np"
   ]
  },
  {
   "cell_type": "code",
   "execution_count": 4,
   "id": "91a4eb7b-7746-47da-847a-47143e8a274c",
   "metadata": {},
   "outputs": [],
   "source": [
    "paths = {\n",
    "    'MODELS':'models',\n",
    "    'LR':os.path.join('models','LogisticRegression'),\n",
    "    'FASTTEXT':os.path.join('models','fasttext'),\n",
    "    'DATA':'data',\n",
    "    'TRAIN':os.path.join('data','train'),\n",
    "    'TEST':os.path.join('data','test')\n",
    "}"
   ]
  },
  {
   "cell_type": "markdown",
   "id": "a8d7a114-c51d-4394-b8a1-2641cc04dca5",
   "metadata": {},
   "source": [
    "### Загрузка предобработанных данных"
   ]
  },
  {
   "cell_type": "code",
   "execution_count": 36,
   "id": "a1968bcb-b0d6-4643-ac92-2a61fe4306b1",
   "metadata": {},
   "outputs": [],
   "source": [
    "df_gensim = pd.read_csv(os.path.join(paths['DATA'],'gensim.csv'), index_col=0).dropna()"
   ]
  },
  {
   "cell_type": "code",
   "execution_count": 37,
   "id": "f9b939ea-e902-4d89-a392-6c6d52a85dd1",
   "metadata": {},
   "outputs": [],
   "source": [
    "df_cleaner = pd.read_csv(os.path.join(paths['DATA'],'cleaner.csv'), index_col=0).dropna()"
   ]
  },
  {
   "cell_type": "code",
   "execution_count": 38,
   "id": "625fb8a4-59e1-4105-b7f1-14c810fcf6f8",
   "metadata": {},
   "outputs": [
    {
     "data": {
      "text/html": [
       "<div>\n",
       "<style scoped>\n",
       "    .dataframe tbody tr th:only-of-type {\n",
       "        vertical-align: middle;\n",
       "    }\n",
       "\n",
       "    .dataframe tbody tr th {\n",
       "        vertical-align: top;\n",
       "    }\n",
       "\n",
       "    .dataframe thead th {\n",
       "        text-align: right;\n",
       "    }\n",
       "</style>\n",
       "<table border=\"1\" class=\"dataframe\">\n",
       "  <thead>\n",
       "    <tr style=\"text-align: right;\">\n",
       "      <th></th>\n",
       "      <th>text</th>\n",
       "      <th>topic</th>\n",
       "    </tr>\n",
       "  </thead>\n",
       "  <tbody>\n",
       "    <tr>\n",
       "      <th>0</th>\n",
       "      <td>как стало известно агентству ассошиэйтед пресс...</td>\n",
       "      <td>Россия</td>\n",
       "    </tr>\n",
       "    <tr>\n",
       "      <th>1</th>\n",
       "      <td>зале игровых автоматов третьем ярусе подземног...</td>\n",
       "      <td>Россия</td>\n",
       "    </tr>\n",
       "    <tr>\n",
       "      <th>2</th>\n",
       "      <td>япония приняла решение разморозить кредиты рос...</td>\n",
       "      <td>Россия</td>\n",
       "    </tr>\n",
       "    <tr>\n",
       "      <th>3</th>\n",
       "      <td>британцы отмечают сегодня скорбную дату вторую...</td>\n",
       "      <td>Мир</td>\n",
       "    </tr>\n",
       "    <tr>\n",
       "      <th>4</th>\n",
       "      <td>понедельник директор департамента внешних связ...</td>\n",
       "      <td>Россия</td>\n",
       "    </tr>\n",
       "  </tbody>\n",
       "</table>\n",
       "</div>"
      ],
      "text/plain": [
       "                                                text   topic\n",
       "0  как стало известно агентству ассошиэйтед пресс...  Россия\n",
       "1  зале игровых автоматов третьем ярусе подземног...  Россия\n",
       "2  япония приняла решение разморозить кредиты рос...  Россия\n",
       "3  британцы отмечают сегодня скорбную дату вторую...     Мир\n",
       "4  понедельник директор департамента внешних связ...  Россия"
      ]
     },
     "execution_count": 38,
     "metadata": {},
     "output_type": "execute_result"
    }
   ],
   "source": [
    "df_gensim.head(5)"
   ]
  },
  {
   "cell_type": "code",
   "execution_count": 39,
   "id": "1d0d37bd-009d-4016-8b34-03cb9e1fbfbc",
   "metadata": {},
   "outputs": [
    {
     "data": {
      "text/html": [
       "<div>\n",
       "<style scoped>\n",
       "    .dataframe tbody tr th:only-of-type {\n",
       "        vertical-align: middle;\n",
       "    }\n",
       "\n",
       "    .dataframe tbody tr th {\n",
       "        vertical-align: top;\n",
       "    }\n",
       "\n",
       "    .dataframe thead th {\n",
       "        text-align: right;\n",
       "    }\n",
       "</style>\n",
       "<table border=\"1\" class=\"dataframe\">\n",
       "  <thead>\n",
       "    <tr style=\"text-align: right;\">\n",
       "      <th></th>\n",
       "      <th>text</th>\n",
       "      <th>topic</th>\n",
       "    </tr>\n",
       "  </thead>\n",
       "  <tbody>\n",
       "    <tr>\n",
       "      <th>0</th>\n",
       "      <td>как стало известно агентству ассошиэйтед пресс...</td>\n",
       "      <td>Россия</td>\n",
       "    </tr>\n",
       "    <tr>\n",
       "      <th>1</th>\n",
       "      <td>зале игровых автоматов третьем ярусе подземног...</td>\n",
       "      <td>Россия</td>\n",
       "    </tr>\n",
       "    <tr>\n",
       "      <th>2</th>\n",
       "      <td>япония приняла решение разморозить кредиты рос...</td>\n",
       "      <td>Россия</td>\n",
       "    </tr>\n",
       "    <tr>\n",
       "      <th>3</th>\n",
       "      <td>британцы отмечают сегодня скорбную дату вторую...</td>\n",
       "      <td>Мир</td>\n",
       "    </tr>\n",
       "    <tr>\n",
       "      <th>4</th>\n",
       "      <td>понедельник директор департамента внешних связ...</td>\n",
       "      <td>Россия</td>\n",
       "    </tr>\n",
       "  </tbody>\n",
       "</table>\n",
       "</div>"
      ],
      "text/plain": [
       "                                                text   topic\n",
       "0  как стало известно агентству ассошиэйтед пресс...  Россия\n",
       "1  зале игровых автоматов третьем ярусе подземног...  Россия\n",
       "2  япония приняла решение разморозить кредиты рос...  Россия\n",
       "3  британцы отмечают сегодня скорбную дату вторую...     Мир\n",
       "4  понедельник директор департамента внешних связ...  Россия"
      ]
     },
     "execution_count": 39,
     "metadata": {},
     "output_type": "execute_result"
    }
   ],
   "source": [
    "df_cleaner.head(5)"
   ]
  },
  {
   "cell_type": "markdown",
   "id": "30d13c5a-2250-4949-93a6-aac4aa7bb003",
   "metadata": {},
   "source": [
    "### Формирование тестовой и обучающей выборки с учетом несбалансированности классов"
   ]
  },
  {
   "cell_type": "code",
   "execution_count": 40,
   "id": "2a35e803-1000-42e5-bc7d-a7043b41f11e",
   "metadata": {},
   "outputs": [],
   "source": [
    "from sklearn.model_selection import train_test_split\n",
    "from sklearn.metrics import classification_report"
   ]
  },
  {
   "cell_type": "code",
   "execution_count": 41,
   "id": "d1415b66-1bb5-44c8-86d5-c703114009ba",
   "metadata": {},
   "outputs": [],
   "source": [
    "X_train_gensim, X_test_gensim, y_train_gensim, y_test_gensim = train_test_split(df_gensim.text, \n",
    "                                                                                df_gensim.topic,  \n",
    "                                                                                test_size=0.2, \n",
    "                                                                                stratify=df_gensim.topic,\n",
    "                                                                                random_state=11)"
   ]
  },
  {
   "cell_type": "code",
   "execution_count": 42,
   "id": "1019148c-77cd-404d-ad51-62fa113565a5",
   "metadata": {},
   "outputs": [],
   "source": [
    "X_train_clean, X_test_clean, y_train_clean, y_test_clean = train_test_split(df_cleaner.text,\n",
    "                                                                            df_cleaner.topic,\n",
    "                                                                            test_size=0.2, \n",
    "                                                                            stratify=df_cleaner.topic, \n",
    "                                                                            random_state=11)"
   ]
  },
  {
   "cell_type": "markdown",
   "id": "d4768d39-fc42-4d27-bee6-1eaa101027aa",
   "metadata": {},
   "source": [
    "#### TfIdf преобразование для данных преобразованных gensim"
   ]
  },
  {
   "cell_type": "code",
   "execution_count": 57,
   "id": "ef5ebee9-6014-4ccc-8fc3-ca0f0527e237",
   "metadata": {},
   "outputs": [],
   "source": [
    "from sklearn.feature_extraction.text import TfidfVectorizer\n",
    "from scipy.linalg import svd"
   ]
  },
  {
   "cell_type": "code",
   "execution_count": 47,
   "id": "64f3a4f4-6eb3-40c6-90fc-c132809f3e1e",
   "metadata": {},
   "outputs": [
    {
     "name": "stdout",
     "output_type": "stream",
     "text": [
      "CPU times: total: 1min 51s\n",
      "Wall time: 1min 51s\n"
     ]
    }
   ],
   "source": [
    "%%time\n",
    "vectorizer_gensim = TfidfVectorizer()\n",
    "X_train_gensim_tfidf = vectorizer_gensim.fit_transform(X_train_gensim.values)\n",
    "X_test_gensim_tfidf = vectorizer_gensim.transform(X_test_gensim)"
   ]
  },
  {
   "cell_type": "markdown",
   "id": "a727e08b-8e2b-4702-9947-69685e323e40",
   "metadata": {},
   "source": [
    "Понижение признакового пространства:\n",
    "1. с помощью матричного разложения\n",
    "2. с помощью регуляризатора Лассо "
   ]
  },
  {
   "cell_type": "code",
   "execution_count": 48,
   "id": "ffb87d28-005b-4b0a-8ef1-bf60d3cb7340",
   "metadata": {},
   "outputs": [
    {
     "data": {
      "text/plain": [
       "<589199x922140 sparse matrix of type '<class 'numpy.float64'>'\n",
       "\twith 75113056 stored elements in Compressed Sparse Row format>"
      ]
     },
     "execution_count": 48,
     "metadata": {},
     "output_type": "execute_result"
    }
   ],
   "source": [
    "X_train_gensim_tfidf"
   ]
  },
  {
   "cell_type": "code",
   "execution_count": 51,
   "id": "649a8f1e-56a6-4858-be6e-a8c2d60c4531",
   "metadata": {},
   "outputs": [],
   "source": [
    "from sklearn.decomposition import TruncatedSVD"
   ]
  },
  {
   "cell_type": "code",
   "execution_count": 80,
   "id": "fea11021-1cdd-4104-9270-cd61d42aa15a",
   "metadata": {},
   "outputs": [
    {
     "name": "stdout",
     "output_type": "stream",
     "text": [
      "CPU times: total: 1min 24s\n",
      "Wall time: 1min 10s\n"
     ]
    }
   ],
   "source": [
    "%%time\n",
    "modelPCA = TruncatedSVD(n_components=16)\n",
    "X_train = modelPCA.fit_transform(X=X_train_gensim_tfidf)\n",
    "X_test = modelPCA.transform(X=X_test_gensim_tfidf)\n",
    "y_train = y_train_gensim\n",
    "y_test = y_test_gensim"
   ]
  },
  {
   "cell_type": "code",
   "execution_count": 58,
   "id": "0d4e4259-057a-4b15-b57d-4c02100f9ff1",
   "metadata": {},
   "outputs": [],
   "source": [
    "from sklearn.linear_model import LogisticRegression\n",
    "from xgboost import XGBClassifier"
   ]
  },
  {
   "cell_type": "code",
   "execution_count": 72,
   "id": "5db580f5-704d-46a7-998e-73438ac05563",
   "metadata": {},
   "outputs": [
    {
     "name": "stdout",
     "output_type": "stream",
     "text": [
      "                   precision    recall  f1-score   support\n",
      "\n",
      "           Бизнес       0.56      0.13      0.21      1480\n",
      "      Бывший_СССР       0.79      0.70      0.74     10680\n",
      "              Дом       0.84      0.72      0.77      4347\n",
      "         Из_жизни       0.55      0.46      0.50      5521\n",
      "   Интернет_и_СМИ       0.70      0.63      0.66      8933\n",
      "         Культура       0.81      0.84      0.82     10759\n",
      "              Мир       0.75      0.82      0.78     27324\n",
      "  Наука_и_техника       0.79      0.81      0.80     10626\n",
      "      Путешествия       0.69      0.33      0.45      1281\n",
      "           Россия       0.73      0.81      0.77     32088\n",
      "Силовые_структуры       0.58      0.32      0.41      3919\n",
      "            Спорт       0.96      0.95      0.96     12883\n",
      "         Ценности       0.88      0.72      0.79      1553\n",
      "        Экономика       0.78      0.82      0.80     15906\n",
      "\n",
      "         accuracy                           0.77    147300\n",
      "        macro avg       0.74      0.65      0.68    147300\n",
      "     weighted avg       0.76      0.77      0.76    147300\n",
      "\n",
      "CPU times: total: 58.7 s\n",
      "Wall time: 58 s\n"
     ]
    }
   ],
   "source": [
    "%%time\n",
    "modelLR = LogisticRegression(random_state=11, n_jobs=16, solver='saga')\n",
    "modelLR.fit(X_train, y_train)\n",
    "predictLR = modelLR.predict(X_test)\n",
    "print(classification_report(y_test,predictLR))"
   ]
  },
  {
   "cell_type": "code",
   "execution_count": 85,
   "id": "a3814143-8c6f-46da-80c1-a0a12bf58d31",
   "metadata": {},
   "outputs": [
    {
     "name": "stderr",
     "output_type": "stream",
     "text": [
      "C:\\Users\\Alexa\\Documents\\ML\\Work_with_text\\predict news\\venv-text\\lib\\site-packages\\sklearn\\linear_model\\_sag.py:350: ConvergenceWarning: The max_iter was reached which means the coef_ did not converge\n",
      "  warnings.warn(\n"
     ]
    },
    {
     "name": "stdout",
     "output_type": "stream",
     "text": [
      "                   precision    recall  f1-score   support\n",
      "\n",
      "           Бизнес       0.70      0.47      0.56      1480\n",
      "      Бывший_СССР       0.86      0.86      0.86     10680\n",
      "              Дом       0.87      0.84      0.85      4347\n",
      "         Из_жизни       0.71      0.63      0.66      5521\n",
      "   Интернет_и_СМИ       0.79      0.75      0.77      8933\n",
      "         Культура       0.88      0.91      0.89     10759\n",
      "              Мир       0.82      0.86      0.84     27324\n",
      "  Наука_и_техника       0.86      0.87      0.87     10626\n",
      "      Путешествия       0.84      0.69      0.76      1281\n",
      "           Россия       0.82      0.85      0.84     32088\n",
      "Силовые_структуры       0.76      0.60      0.67      3919\n",
      "            Спорт       0.97      0.97      0.97     12883\n",
      "         Ценности       0.92      0.84      0.88      1553\n",
      "        Экономика       0.86      0.87      0.87     15906\n",
      "\n",
      "         accuracy                           0.84    147300\n",
      "        macro avg       0.83      0.79      0.81    147300\n",
      "     weighted avg       0.84      0.84      0.84    147300\n",
      "\n",
      "CPU times: total: 1h 23min 58s\n",
      "Wall time: 1h 24min 25s\n"
     ]
    }
   ],
   "source": [
    "%%time\n",
    "modelLasso = LogisticRegression(penalty='l1',random_state=11, n_jobs=16, solver='saga')\n",
    "modelLasso.fit(X_train_gensim_tfidf, y_train)\n",
    "predictLR = modelLasso.predict(X_test_gensim_tfidf)\n",
    "print(classification_report(y_test,predictLR))"
   ]
  },
  {
   "cell_type": "code",
   "execution_count": 89,
   "id": "53fd6778-6a76-48ad-a375-6a90e78c682d",
   "metadata": {},
   "outputs": [],
   "source": [
    "coef = modelLasso.coef_\n"
   ]
  },
  {
   "cell_type": "code",
   "execution_count": 90,
   "id": "cef16930-8ebb-45ac-8439-46dad34e1b7a",
   "metadata": {},
   "outputs": [],
   "source": [
    "import pickle\n",
    "    "
   ]
  },
  {
   "cell_type": "code",
   "execution_count": 91,
   "id": "0d8d7019-8dfc-4b06-bca0-8be3c00a3cfc",
   "metadata": {},
   "outputs": [],
   "source": [
    "with open('coef.bin','wb') as file:\n",
    "    pickle.dump(coef,file)"
   ]
  },
  {
   "cell_type": "code",
   "execution_count": null,
   "id": "a9c7f081-8dc9-4d8c-a9ca-46cc4c404d75",
   "metadata": {},
   "outputs": [],
   "source": []
  }
 ],
 "metadata": {
  "kernelspec": {
   "display_name": "venv-text",
   "language": "python",
   "name": "venv-text"
  },
  "language_info": {
   "codemirror_mode": {
    "name": "ipython",
    "version": 3
   },
   "file_extension": ".py",
   "mimetype": "text/x-python",
   "name": "python",
   "nbconvert_exporter": "python",
   "pygments_lexer": "ipython3",
   "version": "3.10.4"
  }
 },
 "nbformat": 4,
 "nbformat_minor": 5
}
