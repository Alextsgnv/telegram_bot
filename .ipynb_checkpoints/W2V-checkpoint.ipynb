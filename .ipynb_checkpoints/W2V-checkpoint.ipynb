{
 "cells": [
  {
   "cell_type": "markdown",
   "metadata": {
    "id": "iJucxCovP7oJ"
   },
   "source": [
    "## Решение на основе нейронных сетей (elmo)"
   ]
  },
  {
   "cell_type": "code",
   "execution_count": 1,
   "metadata": {
    "executionInfo": {
     "elapsed": 2,
     "status": "ok",
     "timestamp": 1655060040124,
     "user": {
      "displayName": "Александр",
      "userId": "07878979912285210689"
     },
     "user_tz": -180
    },
    "id": "yavKOK7qTppX"
   },
   "outputs": [],
   "source": [
    "import os\n",
    "import pandas as pd\n",
    "import numpy as np\n",
    "from tqdm import tqdm\n",
    "import pickle"
   ]
  },
  {
   "cell_type": "code",
   "execution_count": 2,
   "metadata": {
    "executionInfo": {
     "elapsed": 2,
     "status": "ok",
     "timestamp": 1655060040125,
     "user": {
      "displayName": "Александр",
      "userId": "07878979912285210689"
     },
     "user_tz": -180
    },
    "id": "JZGUG9opQHKd"
   },
   "outputs": [],
   "source": [
    "paths = {\n",
    "    'MODELS':'models',\n",
    "    'LR':os.path.join('models','LogisticRegression'),\n",
    "    'FASTTEXT':os.path.join('models','fasttext'),\n",
    "    'VECTOR':os.path.join('models','vector'),\n",
    "    'DATA':'data',\n",
    "    'TRAIN':os.path.join('data','train'),\n",
    "    'TEST':os.path.join('data','test'),\n",
    "    'UTILS':'utils',\n",
    "}"
   ]
  },
  {
   "cell_type": "markdown",
   "metadata": {
    "id": "VfEiZQUCQc6r"
   },
   "source": [
    "### Загрузка предобработанных данных"
   ]
  },
  {
   "cell_type": "code",
   "execution_count": 18,
   "metadata": {
    "executionInfo": {
     "elapsed": 33875,
     "status": "ok",
     "timestamp": 1655063514807,
     "user": {
      "displayName": "Александр",
      "userId": "07878979912285210689"
     },
     "user_tz": -180
    },
    "id": "fHRvRZP5QKir"
   },
   "outputs": [],
   "source": [
    "df_cleaner = pd.read_csv(os.path.join(paths['DATA'],'cleaner.csv'), index_col=0, encoding='utf-8').dropna()"
   ]
  },
  {
   "cell_type": "markdown",
   "metadata": {
    "id": "NnQaDfITQylO"
   },
   "source": [
    "### Формирование тестовой и обучающей выборки с учетом несбалансированности классов"
   ]
  },
  {
   "cell_type": "code",
   "execution_count": 19,
   "metadata": {
    "executionInfo": {
     "elapsed": 15,
     "status": "ok",
     "timestamp": 1655063514808,
     "user": {
      "displayName": "Александр",
      "userId": "07878979912285210689"
     },
     "user_tz": -180
    },
    "id": "qnQRPq-uTupy"
   },
   "outputs": [],
   "source": [
    "from sklearn.model_selection import train_test_split"
   ]
  },
  {
   "cell_type": "code",
   "execution_count": 20,
   "metadata": {
    "executionInfo": {
     "elapsed": 1075,
     "status": "ok",
     "timestamp": 1655063515870,
     "user": {
      "displayName": "Александр",
      "userId": "07878979912285210689"
     },
     "user_tz": -180
    },
    "id": "s0otMWqQQ2sm"
   },
   "outputs": [],
   "source": [
    "X_train_clean, X_test_clean, y_train_clean, y_test_clean = train_test_split(df_cleaner.text,\n",
    "                                                                            df_cleaner.topic,\n",
    "                                                                            test_size=0.2, \n",
    "                                                                            stratify=df_cleaner.topic, \n",
    "                                                                            random_state=11)"
   ]
  },
  {
   "cell_type": "markdown",
   "metadata": {
    "id": "9QkF7BtzQ53s"
   },
   "source": [
    "#### word2vec"
   ]
  },
  {
   "cell_type": "code",
   "execution_count": 21,
   "metadata": {
    "executionInfo": {
     "elapsed": 308,
     "status": "ok",
     "timestamp": 1655063516176,
     "user": {
      "displayName": "Александр",
      "userId": "07878979912285210689"
     },
     "user_tz": -180
    },
    "id": "wRp8kgIqgvNf"
   },
   "outputs": [],
   "source": [
    "output_len = len(np.unique(y_train_clean))"
   ]
  },
  {
   "cell_type": "code",
   "execution_count": 22,
   "metadata": {
    "executionInfo": {
     "elapsed": 364,
     "status": "ok",
     "timestamp": 1655063516538,
     "user": {
      "displayName": "Александр",
      "userId": "07878979912285210689"
     },
     "user_tz": -180
    },
    "id": "8M2TzIubvICX"
   },
   "outputs": [],
   "source": [
    "import gensim.downloader as api "
   ]
  },
  {
   "cell_type": "code",
   "execution_count": 23,
   "metadata": {
    "executionInfo": {
     "elapsed": 8658,
     "status": "ok",
     "timestamp": 1655063525195,
     "user": {
      "displayName": "Александр",
      "userId": "07878979912285210689"
     },
     "user_tz": -180
    },
    "id": "7anYKUTfvexl"
   },
   "outputs": [],
   "source": [
    "russuia_w2v = api.load('word2vec-ruscorpora-300')"
   ]
  },
  {
   "cell_type": "code",
   "execution_count": 24,
   "metadata": {
    "executionInfo": {
     "elapsed": 11,
     "status": "ok",
     "timestamp": 1655063525196,
     "user": {
      "displayName": "Александр",
      "userId": "07878979912285210689"
     },
     "user_tz": -180
    },
    "id": "9s2kC98PvggL"
   },
   "outputs": [],
   "source": [
    "from collections import defaultdict\n",
    "import re\n",
    "def get_vocab(words:list, vectors:list)->dict:\n",
    "    dct = defaultdict(str)\n",
    "    print(len(words),len(vectors))\n",
    "    for word, vector in zip(words,vectors):\n",
    "        key = re.sub('_[A-Z]*','',word)\n",
    "        dct[key] = vector\n",
    "    return dct\n",
    "    "
   ]
  },
  {
   "cell_type": "code",
   "execution_count": 25,
   "metadata": {
    "colab": {
     "base_uri": "https://localhost:8080/"
    },
    "executionInfo": {
     "elapsed": 385,
     "status": "ok",
     "timestamp": 1655063525571,
     "user": {
      "displayName": "Александр",
      "userId": "07878979912285210689"
     },
     "user_tz": -180
    },
    "id": "qTLRx-NEviqg",
    "outputId": "28855bec-2af1-48ab-a1b6-c37494d2a4e7"
   },
   "outputs": [
    {
     "name": "stdout",
     "output_type": "stream",
     "text": [
      "184973 184973\n"
     ]
    }
   ],
   "source": [
    "dct_words = get_vocab(russuia_w2v.index2word,russuia_w2v.vectors)\n",
    "dct_idx = {name:idx for idx, name  in enumerate(dct_words)}"
   ]
  },
  {
   "cell_type": "code",
   "execution_count": 26,
   "metadata": {
    "executionInfo": {
     "elapsed": 6,
     "status": "ok",
     "timestamp": 1655063525572,
     "user": {
      "displayName": "Александр",
      "userId": "07878979912285210689"
     },
     "user_tz": -180
    },
    "id": "lb1rWMx2vnN5"
   },
   "outputs": [],
   "source": [
    "import tensorflow as tf\n",
    "from tensorflow import keras\n",
    "from tensorflow.keras.layers import Embedding\n",
    "from sklearn.preprocessing import OneHotEncoder"
   ]
  },
  {
   "cell_type": "code",
   "execution_count": 27,
   "metadata": {
    "executionInfo": {
     "elapsed": 6,
     "status": "ok",
     "timestamp": 1655063525572,
     "user": {
      "displayName": "Александр",
      "userId": "07878979912285210689"
     },
     "user_tz": -180
    },
    "id": "UWPUXRMOvpJR"
   },
   "outputs": [],
   "source": [
    "def tokenizer(text: str, dct_idx:dict)->np.array:\n",
    "    result = []\n",
    "    for word in text.split():\n",
    "        value = dct_idx.get(word, None)\n",
    "        if value is not None:\n",
    "            result.append(value)\n",
    "    return np.asarray(result)"
   ]
  },
  {
   "cell_type": "code",
   "execution_count": 28,
   "metadata": {
    "executionInfo": {
     "elapsed": 5,
     "status": "ok",
     "timestamp": 1655063525572,
     "user": {
      "displayName": "Александр",
      "userId": "07878979912285210689"
     },
     "user_tz": -180
    },
    "id": "9G3muzMWxvFe"
   },
   "outputs": [],
   "source": [
    "def get_w2v_sentence(text:str, dct_vocab:dict):\n",
    "    result = []\n",
    "    for word in text.split()[-100:]:\n",
    "        try:\n",
    "            vector = dct_vocab[word]\n",
    "            if not isinstance(vector,str):\n",
    "                result.append(vector)\n",
    "        except KeyError :\n",
    "            result.append([])\n",
    "            \n",
    "    return np.asarray(result, dtype=object).flatten()"
   ]
  },
  {
   "cell_type": "code",
   "execution_count": 29,
   "metadata": {
    "colab": {
     "base_uri": "https://localhost:8080/"
    },
    "executionInfo": {
     "elapsed": 1911,
     "status": "ok",
     "timestamp": 1655063527479,
     "user": {
      "displayName": "Александр",
      "userId": "07878979912285210689"
     },
     "user_tz": -180
    },
    "id": "34BkTncBxvlD",
    "outputId": "d7ba8521-ffcd-4066-b102-62cab09035cd"
   },
   "outputs": [
    {
     "name": "stderr",
     "output_type": "stream",
     "text": [
      "183533it [00:00, 652642.55it/s]\n"
     ]
    }
   ],
   "source": [
    "embending_matrix = np.zeros(shape=(len(dct_words),300))\n",
    "for idx, word in tqdm(enumerate(dct_words)):\n",
    "    embed_vector = dct_words.get(word,None)\n",
    "    if embed_vector is not None:\n",
    "        embending_matrix[idx] = embed_vector\n",
    "with open('matrix',\"wb\") as file:\n",
    "  pickle.dump(embending_matrix,file)"
   ]
  },
  {
   "cell_type": "code",
   "execution_count": 30,
   "metadata": {
    "executionInfo": {
     "elapsed": 791,
     "status": "ok",
     "timestamp": 1655063528268,
     "user": {
      "displayName": "Александр",
      "userId": "07878979912285210689"
     },
     "user_tz": -180
    },
    "id": "dPmPMU-uxx6Y"
   },
   "outputs": [],
   "source": [
    "y_train_1 = {name:i for i, name in enumerate(np.unique(y_train_clean))}\n",
    "y_train_2 = {str(idx):name for name, idx in y_train_1.items()}\n",
    "y_train = np.asarray([y_train_1[item] for item in y_train_clean])\n",
    "y_test = np.asarray([y_train_1[item] for item in y_test_clean])\n",
    "y_train = keras.utils.to_categorical(y_train).astype(np.int16)\n",
    "y_test = keras.utils.to_categorical(y_test).astype(np.int16)"
   ]
  },
  {
   "cell_type": "code",
   "execution_count": 19,
   "metadata": {
    "colab": {
     "base_uri": "https://localhost:8080/"
    },
    "executionInfo": {
     "elapsed": 30985,
     "status": "ok",
     "timestamp": 1655059848483,
     "user": {
      "displayName": "Александр",
      "userId": "07878979912285210689"
     },
     "user_tz": -180
    },
    "id": "gsoAUDdgx0e8",
    "outputId": "7d2761cc-9bad-4128-c3c3-54e1734f159c"
   },
   "outputs": [
    {
     "name": "stderr",
     "output_type": "stream",
     "text": [
      "100%|██████████| 592874/592874 [00:29<00:00, 19899.34it/s]\n"
     ]
    }
   ],
   "source": [
    "X_train = []\n",
    "for text in tqdm(X_train_clean):\n",
    "    vector_sentence = tokenizer(text, dct_idx)\n",
    "    X_train.append(vector_sentence)\n",
    "X_train = keras.preprocessing.sequence.pad_sequences(X_train,maxlen=100)"
   ]
  },
  {
   "cell_type": "code",
   "execution_count": 20,
   "metadata": {
    "colab": {
     "base_uri": "https://localhost:8080/"
    },
    "executionInfo": {
     "elapsed": 7920,
     "status": "ok",
     "timestamp": 1655059856393,
     "user": {
      "displayName": "Александр",
      "userId": "07878979912285210689"
     },
     "user_tz": -180
    },
    "id": "kJZO73xRx3ER",
    "outputId": "706c840b-ae2d-40da-ae25-06686ec7ee3c"
   },
   "outputs": [
    {
     "name": "stderr",
     "output_type": "stream",
     "text": [
      "100%|██████████| 148219/148219 [00:07<00:00, 19984.24it/s]\n"
     ]
    }
   ],
   "source": [
    "X_test = []\n",
    "for text in tqdm(X_test_clean):\n",
    "    vector_sentence = tokenizer(text, dct_idx)\n",
    "    X_test.append(vector_sentence)\n",
    "X_test = keras.preprocessing.sequence.pad_sequences(X_test,maxlen=100)"
   ]
  },
  {
   "cell_type": "code",
   "execution_count": 21,
   "metadata": {
    "executionInfo": {
     "elapsed": 10,
     "status": "ok",
     "timestamp": 1655059856393,
     "user": {
      "displayName": "Александр",
      "userId": "07878979912285210689"
     },
     "user_tz": -180
    },
    "id": "mb3jBG3Ex73v"
   },
   "outputs": [],
   "source": [
    "VOCAB_SIZE = len(dct_words)\n",
    "VECTOR_SIZE =  russuia_w2v.vector_size\n",
    "MAX_LENGTH = 100\n",
    "OUTPUT_LEN = y_train.shape[1]\n",
    "vars = tuple([VOCAB_SIZE,VECTOR_SIZE,MAX_LENGTH,OUTPUT_LEN])\n",
    "with open('vars','wb') as file:\n",
    "  pickle.dump(vars,file)"
   ]
  },
  {
   "cell_type": "code",
   "execution_count": 4,
   "metadata": {
    "executionInfo": {
     "elapsed": 862,
     "status": "ok",
     "timestamp": 1655060045504,
     "user": {
      "displayName": "Александр",
      "userId": "07878979912285210689"
     },
     "user_tz": -180
    },
    "id": "nDFwugO95Wzj"
   },
   "outputs": [],
   "source": [
    "with open('x_train','rb') as file:\n",
    "  X_train = pickle.load(file)\n",
    "with open('x_test','rb') as file:\n",
    "  X_test = pickle.load(file)\n",
    "with open('y_train','rb') as file:\n",
    "  y_train = pickle.load(file)\n",
    "with open('y_test','rb') as file:\n",
    "  y_test = pickle.load(file)\n",
    "with open('vars','rb') as file:\n",
    "  vars = pickle.load(file)\n",
    "with open('matrix',\"rb\") as file:\n",
    "  embending_matrix = pickle.load(file)\n",
    "VOCAB_SIZE, VECTOR_SIZE, MAX_LENGTH, OUTPUT_LEN = vars"
   ]
  },
  {
   "cell_type": "code",
   "execution_count": 5,
   "metadata": {
    "executionInfo": {
     "elapsed": 3,
     "status": "ok",
     "timestamp": 1655060045504,
     "user": {
      "displayName": "Александр",
      "userId": "07878979912285210689"
     },
     "user_tz": -180
    },
    "id": "2usQv7DAx-XU"
   },
   "outputs": [],
   "source": [
    "embedding_layers = Embedding(input_dim=VOCAB_SIZE,\n",
    "                             output_dim=VECTOR_SIZE,\n",
    "                             input_length=MAX_LENGTH,\n",
    "                             embeddings_initializer=keras.initializers.Constant(embending_matrix))"
   ]
  },
  {
   "cell_type": "code",
   "execution_count": 6,
   "metadata": {
    "executionInfo": {
     "elapsed": 1172,
     "status": "ok",
     "timestamp": 1655060047324,
     "user": {
      "displayName": "Александр",
      "userId": "07878979912285210689"
     },
     "user_tz": -180
    },
    "id": "h7L3SPoByAZQ"
   },
   "outputs": [],
   "source": [
    "modelGRU = keras.models.Sequential()\n",
    "modelGRU.add(embedding_layers)\n",
    "modelGRU.add(keras.layers.GRU(1024))\n",
    "modelGRU.add(keras.layers.Dense(OUTPUT_LEN, activation='softmax'))\n",
    "modelGRU.compile(\n",
    "    optimizer=keras.optimizers.RMSprop(),\n",
    "    loss=keras.losses.CategoricalCrossentropy(),\n",
    "    metrics=keras.metrics.CategoricalAccuracy(),\n",
    ")"
   ]
  },
  {
   "cell_type": "code",
   "execution_count": 25,
   "metadata": {
    "executionInfo": {
     "elapsed": 650,
     "status": "ok",
     "timestamp": 1655060013495,
     "user": {
      "displayName": "Александр",
      "userId": "07878979912285210689"
     },
     "user_tz": -180
    },
    "id": "O130e-S_2_RT"
   },
   "outputs": [],
   "source": [
    "with open('x_train','wb') as file:\n",
    "  pickle.dump(X_train,file)\n",
    "with open('x_test','wb') as file:\n",
    "  pickle.dump(X_test,file)\n",
    "with open('y_train','wb') as file:\n",
    "  pickle.dump(y_train,file)\n",
    "with open('y_test','wb') as file:\n",
    "  pickle.dump(y_test,file) "
   ]
  },
  {
   "cell_type": "code",
   "execution_count": 7,
   "metadata": {
    "colab": {
     "base_uri": "https://localhost:8080/"
    },
    "executionInfo": {
     "elapsed": 262,
     "status": "ok",
     "timestamp": 1655060049787,
     "user": {
      "displayName": "Александр",
      "userId": "07878979912285210689"
     },
     "user_tz": -180
    },
    "id": "sIUHlpX-yMWb",
    "outputId": "accd32ee-2358-4b10-a4e3-5e1d3978e38c"
   },
   "outputs": [
    {
     "name": "stdout",
     "output_type": "stream",
     "text": [
      "Model: \"sequential\"\n",
      "_________________________________________________________________\n",
      " Layer (type)                Output Shape              Param #   \n",
      "=================================================================\n",
      " embedding (Embedding)       (None, 100, 300)          55059900  \n",
      "                                                                 \n",
      " gru (GRU)                   (None, 1024)              4073472   \n",
      "                                                                 \n",
      " dense (Dense)               (None, 15)                15375     \n",
      "                                                                 \n",
      "=================================================================\n",
      "Total params: 59,148,747\n",
      "Trainable params: 59,148,747\n",
      "Non-trainable params: 0\n",
      "_________________________________________________________________\n"
     ]
    }
   ],
   "source": [
    "modelGRU.summary()"
   ]
  },
  {
   "cell_type": "code",
   "execution_count": 8,
   "metadata": {
    "executionInfo": {
     "elapsed": 2,
     "status": "ok",
     "timestamp": 1655060050692,
     "user": {
      "displayName": "Александр",
      "userId": "07878979912285210689"
     },
     "user_tz": -180
    },
    "id": "sUf-3IByyORh"
   },
   "outputs": [],
   "source": [
    "ch_point = tf.keras.callbacks.ModelCheckpoint(\n",
    "    os.path.join(paths['MODELS'],'Word_vect','GRU_2.hdf5'),\n",
    "    monitor='val_categorical_accuracy',\n",
    "    save_best_only=True,\n",
    "    save_weights_only=False,\n",
    "    mode='max',\n",
    "    save_freq='epoch',\n",
    ")\n",
    "erly_stop = tf.keras.callbacks.EarlyStopping(\n",
    "    monitor='val_categorical_accuracy',\n",
    "    min_delta=0.01,\n",
    "    patience=2,\n",
    "    mode='max',\n",
    ")"
   ]
  },
  {
   "cell_type": "code",
   "execution_count": 9,
   "metadata": {
    "colab": {
     "base_uri": "https://localhost:8080/"
    },
    "executionInfo": {
     "elapsed": 2257601,
     "status": "ok",
     "timestamp": 1655062309302,
     "user": {
      "displayName": "Александр",
      "userId": "07878979912285210689"
     },
     "user_tz": -180
    },
    "id": "miA987pEyRZa",
    "outputId": "16428a46-cbbd-4d2e-c98b-0baf99722472"
   },
   "outputs": [
    {
     "name": "stdout",
     "output_type": "stream",
     "text": [
      "Epoch 1/5\n",
      "1158/1158 [==============================] - 576s 489ms/step - loss: 0.8042 - categorical_accuracy: 0.7461 - val_loss: 0.6008 - val_categorical_accuracy: 0.7975\n",
      "Epoch 2/5\n",
      "1158/1158 [==============================] - 558s 482ms/step - loss: 0.5287 - categorical_accuracy: 0.8214 - val_loss: 0.5637 - val_categorical_accuracy: 0.8117\n",
      "Epoch 3/5\n",
      "1158/1158 [==============================] - 563s 486ms/step - loss: 0.4599 - categorical_accuracy: 0.8441 - val_loss: 0.5551 - val_categorical_accuracy: 0.8148\n",
      "Epoch 4/5\n",
      "1158/1158 [==============================] - 559s 483ms/step - loss: 0.3986 - categorical_accuracy: 0.8654 - val_loss: 0.5641 - val_categorical_accuracy: 0.8156\n"
     ]
    },
    {
     "data": {
      "text/plain": [
       "<keras.callbacks.History at 0x7fe9ca4b76d0>"
      ]
     },
     "execution_count": 9,
     "metadata": {},
     "output_type": "execute_result"
    }
   ],
   "source": [
    "modelGRU.fit(\n",
    "    x=X_train,\n",
    "    y=y_train, \n",
    "    epochs=5, \n",
    "    batch_size=512,\n",
    "    validation_data=(X_test,y_test),\n",
    "    callbacks=[ch_point,erly_stop])"
   ]
  },
  {
   "cell_type": "code",
   "execution_count": 14,
   "metadata": {
    "executionInfo": {
     "elapsed": 19747,
     "status": "ok",
     "timestamp": 1655062902105,
     "user": {
      "displayName": "Александр",
      "userId": "07878979912285210689"
     },
     "user_tz": -180
    },
    "id": "xhsYbNO5yTE2"
   },
   "outputs": [],
   "source": [
    "!cp 'models/Word_vect/GRU_2.hdf5' 'drive/MyDrive/Colab Notebooks/text'"
   ]
  },
  {
   "cell_type": "code",
   "execution_count": 15,
   "metadata": {
    "executionInfo": {
     "elapsed": 399,
     "status": "ok",
     "timestamp": 1655063032917,
     "user": {
      "displayName": "Александр",
      "userId": "07878979912285210689"
     },
     "user_tz": -180
    },
    "id": "UYsT8iLUcU-Z"
   },
   "outputs": [],
   "source": [
    "from sklearn.metrics import classification_report"
   ]
  },
  {
   "cell_type": "code",
   "execution_count": 16,
   "metadata": {
    "executionInfo": {
     "elapsed": 59260,
     "status": "ok",
     "timestamp": 1655063092535,
     "user": {
      "displayName": "Александр",
      "userId": "07878979912285210689"
     },
     "user_tz": -180
    },
    "id": "Hj8zPI6Ibo0e"
   },
   "outputs": [],
   "source": [
    "predict = modelGRU.predict(X_test)"
   ]
  },
  {
   "cell_type": "code",
   "execution_count": 31,
   "metadata": {
    "colab": {
     "base_uri": "https://localhost:8080/"
    },
    "executionInfo": {
     "elapsed": 2661,
     "status": "ok",
     "timestamp": 1655063530927,
     "user": {
      "displayName": "Александр",
      "userId": "07878979912285210689"
     },
     "user_tz": -180
    },
    "id": "FBBW00lmbvMe",
    "outputId": "ebb53ff9-f52a-40c1-a58b-ed99ec705167"
   },
   "outputs": [
    {
     "name": "stdout",
     "output_type": "stream",
     "text": [
      "                   precision    recall  f1-score   support\n",
      "\n",
      "           Бизнес       0.65      0.44      0.53      1480\n",
      "      Бывший_СССР       0.81      0.71      0.76      7094\n",
      "              Дом       0.81      0.81      0.81      4347\n",
      "         Из_жизни       0.65      0.58      0.62      5521\n",
      "   Интернет_и_СМИ       0.78      0.68      0.73      8933\n",
      "         Культура       0.86      0.90      0.88     10759\n",
      "              Мир       0.79      0.85      0.82     27324\n",
      "  Наука_и_техника       0.82      0.84      0.83     10627\n",
      "      Путешествия       0.73      0.65      0.68      1281\n",
      "           Россия       0.79      0.84      0.81     32088\n",
      "Силовые_структуры       0.69      0.53      0.60      3919\n",
      "            Спорт       0.95      0.97      0.96     12883\n",
      "          Украина       0.84      0.85      0.85      4504\n",
      "         Ценности       0.87      0.87      0.87      1553\n",
      "        Экономика       0.86      0.83      0.84     15906\n",
      "\n",
      "         accuracy                           0.82    148219\n",
      "        macro avg       0.79      0.76      0.77    148219\n",
      "     weighted avg       0.81      0.82      0.81    148219\n",
      "\n"
     ]
    }
   ],
   "source": [
    "y_true = np.asarray([y_train_2[str(idx)] for idx in np.argmax(y_test, axis=1)])\n",
    "y_predict = np.asarray([y_train_2[str(idx)] for idx in np.argmax(predict, axis=1)])\n",
    "print(classification_report(y_true,y_predict))"
   ]
  },
  {
   "cell_type": "code",
   "execution_count": null,
   "metadata": {
    "id": "boH_LQhgcb6j"
   },
   "outputs": [],
   "source": []
  }
 ],
 "metadata": {
  "accelerator": "GPU",
  "colab": {
   "authorship_tag": "ABX9TyNRyClyeVmdZv00Bp/0G0sX",
   "name": "Untitled0.ipynb",
   "provenance": []
  },
  "kernelspec": {
   "display_name": "Python 3 (ipykernel)",
   "language": "python",
   "name": "python3"
  },
  "language_info": {
   "codemirror_mode": {
    "name": "ipython",
    "version": 3
   },
   "file_extension": ".py",
   "mimetype": "text/x-python",
   "name": "python",
   "nbconvert_exporter": "python",
   "pygments_lexer": "ipython3",
   "version": "3.10.4"
  }
 },
 "nbformat": 4,
 "nbformat_minor": 4
}
